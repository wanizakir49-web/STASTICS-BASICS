{
 "cells": [
  {
   "cell_type": "markdown",
   "id": "37a17bdf",
   "metadata": {},
   "source": [
    "# Statistics Basics — Assignment (Completed)\n",
    "\n",
    "**Student:** Khadija\n",
    "\n",
    "**Assignment Code:** DS-AG-005\n",
    "\n",
    "This notebook contains detailed answers to Questions 1–9 and runnable Python code for Questions 5–9."
   ]
  },
  {
   "cell_type": "markdown",
   "id": "560409e1",
   "metadata": {},
   "source": [
    "\n",
    "## Question 1 — Difference between Descriptive and Inferential Statistics\n",
    "\n",
    "**Descriptive Statistics** summarize and describe features of a dataset. They provide simple summaries about the sample and the measures. Common descriptive measures include:\n",
    "- Measures of central tendency: mean, median, mode.\n",
    "- Measures of dispersion: range, variance, standard deviation, IQR (interquartile range).\n",
    "- Visualization: histograms, boxplots, bar charts, scatterplots.\n",
    "\n",
    "**Example:** If you have exam scores of 100 students, descriptive statistics tell you the average score, the spread (standard deviation), and show the distribution via a histogram.\n",
    "\n",
    "**Inferential Statistics** use sample data to make inferences about a larger population. They quantify uncertainty using probability and draw conclusions such as hypothesis testing, confidence intervals, and regression analysis.\n",
    "\n",
    "**Example:** From the scores of a randomly chosen sample of 100 students, you estimate the mean score of all 5000 students and provide a confidence interval. You might test whether a new teaching method changed the population mean using a t-test.\n",
    "\n",
    "**Key difference:** Descriptive = *describe* the observed data. Inferential = *generalize* from sample to population with uncertainty estimates.\n"
   ]
  },
  {
   "cell_type": "markdown",
   "id": "8251e6d3",
   "metadata": {},
   "source": [
    "\n",
    "## Question 2 — What is Sampling? Random vs Stratified Sampling\n",
    "\n",
    "**Sampling** is the process of selecting a subset (sample) from a larger population to estimate characteristics of the whole population. Good sampling methods aim to produce samples that are representative so that inferences are valid.\n",
    "\n",
    "### Random Sampling (Simple Random Sampling)\n",
    "- Every member of the population has an equal chance of being selected.\n",
    "- Typically implemented by indexing the population and selecting indices with uniform probability, or using random number generators.\n",
    "- Pros: Simple to understand, unbiased if implemented correctly.\n",
    "- Cons: May produce unbalanced samples for small subgroups (rare categories might be under-represented).\n",
    "\n",
    "**Example:** Randomly pick 200 students from the university student list using a random number generator.\n",
    "\n",
    "### Stratified Sampling\n",
    "- Population is divided into homogeneous subgroups (strata) based on known characteristics (e.g., gender, age group, region).\n",
    "- Samples are drawn from each stratum (often proportionally to the stratum size).\n",
    "- Pros: Ensures representation across strata, reduces variance of estimates when strata are internally homogeneous.\n",
    "- Cons: Requires knowledge of strata and more complex to implement.\n",
    "\n",
    "**Example:** To estimate average income, split population into income brackets or regions and sample proportionally from each bracket to ensure each region is represented.\n"
   ]
  },
  {
   "cell_type": "markdown",
   "id": "5fbf0899",
   "metadata": {},
   "source": [
    "\n",
    "## Question 3 — Mean, Median, Mode (Definitions & Importance)\n",
    "\n",
    "- **Mean (Arithmetic mean):** Sum of all observations divided by the number of observations.  \n",
    "  Formula: \\(\\bar{x} = \\frac{1}{n} \\sum_{i=1}^{n} x_i\\).\n",
    "\n",
    "- **Median:** The middle value when the data are ordered. If `n` is even, median is the average of the two middle values.\n",
    "  Median is a robust measure of center for skewed distributions or when outliers are present.\n",
    "\n",
    "- **Mode:** The most frequently occurring value(s) in the dataset. A distribution can be unimodal, bimodal, or multimodal.\n",
    "\n",
    "**Importance:** These measures describe the 'central tendency' of data:\n",
    "- Mean is useful for further mathematical operations (e.g., variance) but sensitive to outliers.\n",
    "- Median gives a better central location when distribution is skewed or has outliers.\n",
    "- Mode is meaningful for categorical data or to identify the most common value in a dataset.\n"
   ]
  },
  {
   "cell_type": "markdown",
   "id": "0b244527",
   "metadata": {},
   "source": [
    "\n",
    "## Question 4 — Skewness and Kurtosis\n",
    "\n",
    "- **Skewness** measures the asymmetry of the probability distribution of a real-valued random variable.\n",
    "  - **Positive skew (right skew):** longer tail on the right side. Most values are concentrated on the left; mean > median typically.\n",
    "  - **Negative skew (left skew):** longer tail on the left side; mean < median typically.\n",
    "\n",
    "- **Kurtosis** measures the 'tailedness' of the distribution — how heavy or light the tails are compared to a normal distribution.\n",
    "  - **High kurtosis (leptokurtic):** heavier tails, more extreme outliers.\n",
    "  - **Low kurtosis (platykurtic):** lighter tails, fewer extreme outliers.\n",
    "  - **Mesokurtic:** kurtosis similar to normal distribution.\n",
    "\n",
    "**What a positive skew implies:** The data have a long right tail (some large values). The mean is pulled toward larger values compared to the median. For example, income data frequently show positive skew due to a small number of high earners.\n"
   ]
  },
  {
   "cell_type": "markdown",
   "id": "f53a8769",
   "metadata": {},
   "source": [
    "## Question 5 — Compute mean, median, and mode\n",
    "\n",
    "**Task:** Implement a Python program to compute the mean, median, and mode of the list.\n",
    "\n",
    "**List:** `numbers = [12, 15, 12, 18, 19, 12, 20, 22, 19, 19, 24, 24, 24, 26, 28]`\n",
    "\n",
    "Below is the code cell (runnable)."
   ]
  },
  {
   "cell_type": "code",
   "execution_count": null,
   "id": "36f2e0b0",
   "metadata": {},
   "outputs": [],
   "source": [
    "\n",
    "# Question 5 — Compute mean, median, and mode for the list\n",
    "numbers = [12, 15, 12, 18, 19, 12, 20, 22, 19, 19, 24, 24, 24, 26, 28]\n",
    "\n",
    "import statistics as stats\n",
    "\n",
    "mean_val = stats.mean(numbers)\n",
    "median_val = stats.median(numbers)\n",
    "# mode may raise StatisticsError if multimodal; use multimode for robust result\n",
    "modes = stats.multimode(numbers)\n",
    "\n",
    "mean_val, median_val, modes\n"
   ]
  },
  {
   "cell_type": "markdown",
   "id": "33b81edf",
   "metadata": {},
   "source": [
    "## Question 6 — Covariance and Correlation\n",
    "\n",
    "Compute covariance and Pearson correlation coefficient between:\n",
    "\n",
    "`list_x = [10,20,30,40,50]`\n",
    "\n",
    "`list_y = [15,25,35,45,60]`\n",
    "\n",
    "Below is the runnable code cell."
   ]
  },
  {
   "cell_type": "code",
   "execution_count": null,
   "id": "8999d83d",
   "metadata": {},
   "outputs": [],
   "source": [
    "\n",
    "# Question 6 — Compute covariance and correlation coefficient between two lists\n",
    "import numpy as np\n",
    "\n",
    "list_x = [10, 20, 30, 40, 50]\n",
    "list_y = [15, 25, 35, 45, 60]\n",
    "\n",
    "# Convert to numpy arrays\n",
    "x = np.array(list_x, dtype=float)\n",
    "y = np.array(list_y, dtype=float)\n",
    "\n",
    "# Sample covariance (ddof=1) and population covariance (ddof=0). We'll compute sample covariance.\n",
    "cov_matrix = np.cov(x, y, ddof=1)\n",
    "cov_xy = cov_matrix[0,1]\n",
    "\n",
    "# Pearson correlation coefficient\n",
    "corr_matrix = np.corrcoef(x, y)\n",
    "corr_xy = corr_matrix[0,1]\n",
    "\n",
    "cov_xy, corr_xy, cov_matrix, corr_matrix\n"
   ]
  },
  {
   "cell_type": "markdown",
   "id": "efcd0916",
   "metadata": {},
   "source": [
    "## Question 7 — Boxplot and Outliers\n",
    "\n",
    "`data = [12, 14, 14, 15, 18, 19, 19, 21, 22, 22, 23, 23, 24, 26, 29, 35]`\n",
    "\n",
    "This cell computes quartiles, IQR, identifies outliers, and draws a boxplot."
   ]
  },
  {
   "cell_type": "code",
   "execution_count": null,
   "id": "34e1785c",
   "metadata": {},
   "outputs": [],
   "source": [
    "\n",
    "# Question 7 — Boxplot and outliers identification\n",
    "import matplotlib.pyplot as plt\n",
    "import numpy as np\n",
    "\n",
    "data = [12, 14, 14, 15, 18, 19, 19, 21, 22, 22, 23, 23, 24, 26, 29, 35]\n",
    "\n",
    "# Compute quartiles and IQR to identify outliers\n",
    "arr = np.array(sorted(data))\n",
    "q1 = np.percentile(arr, 25)\n",
    "q3 = np.percentile(arr, 75)\n",
    "iqr = q3 - q1\n",
    "lower_bound = q1 - 1.5 * iqr\n",
    "upper_bound = q3 + 1.5 * iqr\n",
    "outliers = [x for x in arr if (x < lower_bound) or (x > upper_bound)]\n",
    "\n",
    "print(f\"Q1={q1}, Q3={q3}, IQR={iqr}\")\n",
    "print(f\"Lower bound for outliers: {lower_bound}\")\n",
    "print(f\"Upper bound for outliers: {upper_bound}\")\n",
    "print(\"Outliers:\", outliers)\n",
    "\n",
    "# Plot boxplot\n",
    "plt.figure(figsize=(6,3))\n",
    "plt.boxplot(arr, vert=False)\n",
    "plt.title('Boxplot — Question 7 Data')\n",
    "plt.xlabel('Value')\n",
    "plt.show()\n"
   ]
  },
  {
   "cell_type": "markdown",
   "id": "62224bd5",
   "metadata": {},
   "source": [
    "\n",
    "## Question 8 — Relationship between Advertising Spend and Daily Sales\n",
    "\n",
    "**How to use covariance and correlation:**\n",
    "\n",
    "- **Covariance** gives the direction of the linear relationship between two variables. A positive covariance means that when one variable increases, the other tends to increase; a negative covariance means they move in opposite directions. However, covariance is scale-dependent (its magnitude depends on units) so it's hard to interpret alone.\n",
    "- **Correlation (Pearson's r)** standardizes covariance to a dimensionless value between -1 and 1. It indicates both direction and strength of linear association: values near +1 or -1 imply strong linear association, values near 0 imply weak/no linear association.\n",
    "\n",
    "**In practice for the e-commerce example:**\n",
    "- Compute covariance to check direction (expect positive if advertising increases lead to higher sales).\n",
    "- Compute Pearson correlation to measure strength and test statistical significance (e.g., compute p-value using `scipy.stats.pearsonr` if needed).\n",
    "\n",
    "Below is code to compute correlation for the provided lists.\n"
   ]
  },
  {
   "cell_type": "code",
   "execution_count": null,
   "id": "4b7540f7",
   "metadata": {},
   "outputs": [],
   "source": [
    "\n",
    "# Question 8 — Compute correlation for advertising_spend and daily_sales\n",
    "import numpy as np\n",
    "from scipy import stats\n",
    "\n",
    "advertising_spend = [200, 250, 300, 400, 500]\n",
    "daily_sales = [2200, 2450, 2750, 3200, 4000]\n",
    "\n",
    "# Convert to arrays\n",
    "a = np.array(advertising_spend, dtype=float)\n",
    "s = np.array(daily_sales, dtype=float)\n",
    "\n",
    "# Covariance (sample)\n",
    "cov = np.cov(a, s, ddof=1)[0,1]\n",
    "\n",
    "# Pearson correlation coefficient and p-value\n",
    "pearson_r, p_value = stats.pearsonr(a, s)\n",
    "\n",
    "cov, pearson_r, p_value\n"
   ]
  },
  {
   "cell_type": "markdown",
   "id": "59c476a3",
   "metadata": {},
   "source": [
    "\n",
    "## Question 9 — Customer Satisfaction Distribution & Visualization\n",
    "\n",
    "**Which summary statistics and visualizations to use:**\n",
    "\n",
    "1. **Summary statistics**\n",
    "   - Mean: average satisfaction.\n",
    "   - Median: middle score (robust to skew/outliers).\n",
    "   - Mode: most common score(s).\n",
    "   - Standard deviation: measure of spread.\n",
    "   - Minimum / Maximum and IQR: to see range and spread.\n",
    "\n",
    "2. **Visualizations**\n",
    "   - **Histogram**: shows the distribution and frequency of scores (bins). Good for spotting skewness and modes.\n",
    "   - **Boxplot**: highlights median, IQR, and outliers.\n",
    "   - **Bar chart of counts**: for discrete scales (1–10), show frequency of each score.\n",
    "\n",
    "Below is code to create a histogram using Matplotlib for the provided survey scores.\n"
   ]
  },
  {
   "cell_type": "code",
   "execution_count": null,
   "id": "ee2d502e",
   "metadata": {},
   "outputs": [],
   "source": [
    "\n",
    "# Question 9 — Histogram for survey scores\n",
    "import matplotlib.pyplot as plt\n",
    "import statistics as stats\n",
    "\n",
    "survey_scores = [7, 8, 5, 9, 6, 7, 8, 9, 10, 4, 7, 6, 9, 8, 7]\n",
    "\n",
    "mean_score = stats.mean(survey_scores)\n",
    "median_score = stats.median(survey_scores)\n",
    "mode_scores = stats.multimode(survey_scores)\n",
    "stdev_score = stats.pstdev(survey_scores)  # population std dev\n",
    "sample_stdev = stats.stdev(survey_scores)  # sample std dev\n",
    "\n",
    "print(f\"Mean={mean_score}, Median={median_score}, Mode(s)={mode_scores}, Sample SD={sample_stdev:.3f}\")\n",
    "\n",
    "plt.figure(figsize=(6,4))\n",
    "plt.hist(survey_scores, bins=range(1,12), edgecolor='black')  # bins for discrete 1-10\n",
    "plt.title('Histogram — Customer Satisfaction Scores (1-10)')\n",
    "plt.xlabel('Score')\n",
    "plt.ylabel('Frequency')\n",
    "plt.xticks(range(1,11))\n",
    "plt.grid(axis='y', alpha=0.2)\n",
    "plt.show()\n"
   ]
  }
 ],
 "metadata": {
  "language_info": {
   "name": "python"
  }
 },
 "nbformat": 4,
 "nbformat_minor": 5
}
